{
 "cells": [
  {
   "cell_type": "markdown",
   "id": "86df10b1-7fa9-4898-a492-e61abf818ad5",
   "metadata": {},
   "source": [
    "## LLAVA on SageMaker\n",
    "\n"
   ]
  },
  {
   "cell_type": "code",
   "execution_count": 1,
   "id": "ba2b89a6-42d5-453d-a0da-cd04f7cb8d61",
   "metadata": {
    "tags": []
   },
   "outputs": [],
   "source": [
    "%store -r"
   ]
  },
  {
   "cell_type": "code",
   "execution_count": 6,
   "id": "524c40f3-0e68-4f00-bf30-e85357f9cfca",
   "metadata": {
    "tags": []
   },
   "outputs": [
    {
     "name": "stdout",
     "output_type": "stream",
     "text": [
      "/home/ec2-user/SageMaker/klook/first_pic/deploy_djl\n"
     ]
    }
   ],
   "source": [
    "!pwd"
   ]
  },
  {
   "cell_type": "code",
   "execution_count": 8,
   "id": "7aedc4b6-c470-46f1-bf4b-bd72b19f365f",
   "metadata": {
    "tags": []
   },
   "outputs": [
    {
     "name": "stdout",
     "output_type": "stream",
     "text": [
      "upload: ../models/first/config.json to s3://jackie-test/klook/config.json          \n",
      "upload: ../models/first/.ipynb_checkpoints/trainer_state-checkpoint.json to s3://jackie-test/klook/.ipynb_checkpoints/trainer_state-checkpoint.json\n",
      "upload: ../models/first/generation_config.json to s3://jackie-test/klook/generation_config.json\n",
      "upload: ../models/first/.ipynb_checkpoints/config-checkpoint.json to s3://jackie-test/klook/.ipynb_checkpoints/config-checkpoint.json\n",
      "upload: ../models/first/model-00005-of-00006.safetensors to s3://jackie-test/klook/model-00005-of-00006.safetensors\n",
      "upload: ../models/first/model-00002-of-00006.safetensors to s3://jackie-test/klook/model-00002-of-00006.safetensors\n",
      "upload: ../models/first/model-00004-of-00006.safetensors to s3://jackie-test/klook/model-00004-of-00006.safetensors\n",
      "upload: ../models/first/model.safetensors.index.json to s3://jackie-test/klook/model.safetensors.index.json\n",
      "upload: ../models/first/special_tokens_map.json to s3://jackie-test/klook/special_tokens_map.json\n",
      "upload: ../models/first/tokenizer.model to s3://jackie-test/klook/tokenizer.model\n",
      "upload: ../models/first/tokenizer_config.json to s3://jackie-test/klook/tokenizer_config.json\n",
      "upload: ../models/first/model-00001-of-00006.safetensors to s3://jackie-test/klook/model-00001-of-00006.safetensors\n",
      "upload: ../models/first/training_args.bin to s3://jackie-test/klook/training_args.bin\n",
      "upload: ../models/first/trainer_state.json to s3://jackie-test/klook/trainer_state.json\n",
      "upload: ../models/first/model-00003-of-00006.safetensors to s3://jackie-test/klook/model-00003-of-00006.safetensors\n",
      "upload: ../models/first/model.pth to s3://jackie-test/klook/model.pth\n",
      "upload: ../models/first/model-00006-of-00006.safetensors to s3://jackie-test/klook/model-00006-of-00006.safetensors\n"
     ]
    }
   ],
   "source": [
    "!aws s3 cp /home/ec2-user/SageMaker/klook/first_pic/models/first/ s3://jackie-test/klook/ --recursive"
   ]
  },
  {
   "cell_type": "code",
   "execution_count": 9,
   "id": "f2f1d438-6a6f-40da-a483-99e0ceef3ee7",
   "metadata": {
    "tags": []
   },
   "outputs": [
    {
     "name": "stdout",
     "output_type": "stream",
     "text": [
      "sagemaker.config INFO - Not applying SDK defaults from location: /etc/xdg/sagemaker/config.yaml\n",
      "sagemaker.config INFO - Not applying SDK defaults from location: /home/ec2-user/.config/sagemaker/config.yaml\n"
     ]
    }
   ],
   "source": [
    "import boto3\n",
    "import sagemaker\n",
    "from sagemaker.utils import name_from_base\n",
    "from sagemaker import image_uris"
   ]
  },
  {
   "cell_type": "code",
   "execution_count": 10,
   "id": "ef006a5d-3f64-46b5-afa7-b82446ae4d9b",
   "metadata": {
    "tags": []
   },
   "outputs": [],
   "source": [
    "llm_engine = \"deepspeed\"\n",
    "# llm_engine = \"fastertransformer\""
   ]
  },
  {
   "cell_type": "code",
   "execution_count": 11,
   "id": "0dab8318-ca7e-4ea6-bc45-62a0a1f97496",
   "metadata": {
    "tags": []
   },
   "outputs": [],
   "source": [
    "sagemaker_session = sagemaker.Session()\n",
    "role = sagemaker.get_execution_role()\n",
    "sm_client = sagemaker_session.sagemaker_client\n",
    "sm_runtime_client = sagemaker_session.sagemaker_runtime_client\n",
    "s3_client = boto3.client('s3')\n",
    "default_bucket = sagemaker_session.default_bucket()"
   ]
  },
  {
   "cell_type": "code",
   "execution_count": 12,
   "id": "7bdb9057-32b1-4b9c-8da1-8972701afb0e",
   "metadata": {
    "tags": []
   },
   "outputs": [
    {
     "name": "stdout",
     "output_type": "stream",
     "text": [
      "Inference container uri: 763104351884.dkr.ecr.us-west-2.amazonaws.com/djl-inference:0.23.0-deepspeed0.9.5-cu118\n"
     ]
    }
   ],
   "source": [
    "framework_name = f\"djl-{llm_engine}\"\n",
    "inference_image_uri = image_uris.retrieve(\n",
    "    framework=framework_name, region=sagemaker_session.boto_session.region_name, version=\"0.23.0\"\n",
    ")\n",
    "\n",
    "print(f\"Inference container uri: {inference_image_uri}\")"
   ]
  },
  {
   "cell_type": "code",
   "execution_count": 13,
   "id": "7e0aa96a-28d9-4dce-8d81-9c31e856f756",
   "metadata": {
    "tags": []
   },
   "outputs": [
    {
     "name": "stdout",
     "output_type": "stream",
     "text": [
      "s3://sagemaker-us-west-2-726335585155/llm/llava/llava-v15/code/\n"
     ]
    }
   ],
   "source": [
    "s3_target = f\"s3://{sagemaker_session.default_bucket()}/llm/llava/llava-v15/code/\"\n",
    "print(s3_target)"
   ]
  },
  {
   "cell_type": "code",
   "execution_count": 14,
   "id": "d8683db7-bbf8-4012-ac7e-cac38f204616",
   "metadata": {
    "tags": []
   },
   "outputs": [
    {
     "name": "stdout",
     "output_type": "stream",
     "text": [
      "rm: cannot remove ‘llava-src.tar.gz’: No such file or directory\n",
      "llava-src/\n",
      "llava-src/model.py\n",
      "llava-src/requirements.txt\n",
      "llava-src/first_page_pic_infer.py\n",
      "llava-src/run_llava_local.py\n",
      "llava-src/serving.properties\n",
      "upload: ./llava-src.tar.gz to s3://sagemaker-us-west-2-726335585155/llm/llava/llava-v15/code/llava-src.tar.gz\n"
     ]
    }
   ],
   "source": [
    "!rm llava-src.tar.gz\n",
    "!tar zcvf llava-src.tar.gz llava-src --exclude \".ipynb_checkpoints\" --exclude \"__pycache__\" --exclude \".ipynb\"\n",
    "!aws s3 cp llava-src.tar.gz {s3_target}"
   ]
  },
  {
   "cell_type": "code",
   "execution_count": 15,
   "id": "e1690e5d-613f-48f6-bc52-262ad5c23ed7",
   "metadata": {
    "tags": []
   },
   "outputs": [
    {
     "name": "stdout",
     "output_type": "stream",
     "text": [
      "s3://sagemaker-us-west-2-726335585155/llm/llava/llava-v15/code/llava-src.tar.gz\n"
     ]
    }
   ],
   "source": [
    "model_uri = f\"{s3_target}llava-src.tar.gz\"\n",
    "print(model_uri)"
   ]
  },
  {
   "cell_type": "markdown",
   "id": "0016d582-6e5a-40f7-8760-6806fda633ef",
   "metadata": {},
   "source": [
    "### 4.2 Create SageMaker endpoint\n",
    "\n",
    "You need to specify the instance to use and endpoint names"
   ]
  },
  {
   "cell_type": "code",
   "execution_count": null,
   "id": "06f143dd-87a6-4636-bdf3-d1781d2ff966",
   "metadata": {
    "tags": []
   },
   "outputs": [
    {
     "name": "stdout",
     "output_type": "stream",
     "text": [
      "----------------"
     ]
    }
   ],
   "source": [
    "from sagemaker import Model, image_uris, serializers, deserializers\n",
    "\n",
    "model = Model(image_uri=inference_image_uri, model_data=model_uri, role=role)\n",
    "\n",
    "instance_type = \"ml.g5.2xlarge\"\n",
    "endpoint_name = sagemaker.utils.name_from_base(\"llava-djl\")\n",
    "\n",
    "model.deploy(initial_instance_count=1,\n",
    "             instance_type=instance_type,\n",
    "             endpoint_name=endpoint_name\n",
    "            )\n",
    "\n",
    "# our requests and responses will be in json format so we specify the serializer and the deserializer\n",
    "predictor = sagemaker.Predictor(\n",
    "    endpoint_name=endpoint_name,\n",
    "    sagemaker_session=sagemaker_session,\n",
    "    serializer=serializers.JSONSerializer(),\n",
    ")"
   ]
  },
  {
   "cell_type": "markdown",
   "id": "514933f7-7fa7-402d-8cb4-7f6fff71f1bb",
   "metadata": {},
   "source": [
    "### invoke endpoint\n"
   ]
  },
  {
   "cell_type": "code",
   "execution_count": null,
   "id": "2093376b-7a6f-41de-bf97-b031c2f69035",
   "metadata": {
    "tags": []
   },
   "outputs": [],
   "source": [
    "%%time\n",
    "\n",
    "prompt = \"Describe the image\"\n",
    "data = {\n",
    "    \"input_image\" : 'https://raw.githubusercontent.com/haotian-liu/LLaVA/main/images/llava_logo.png', \n",
    "    \"text\" : [prompt],\n",
    "    # \"max_new_tokens\" : 1024,\n",
    "    # \"temperature\" : 0.2,\n",
    "    # \"stop_str\" : \"###\"\n",
    "}\n",
    "\n",
    "# request\n",
    "output = predictor.predict(data)\n",
    "print(output)"
   ]
  },
  {
   "cell_type": "code",
   "execution_count": null,
   "id": "0dae09f4-6244-447a-b598-a4956a8e7070",
   "metadata": {
    "tags": []
   },
   "outputs": [],
   "source": [
    "%%time\n",
    "import time\n",
    "\n",
    "# request\n",
    "t0=time.time()\n",
    "for i in range(1000):\n",
    "    output = predictor.predict(data)\n",
    "print(time.time()-t0)\n",
    "print(output)"
   ]
  },
  {
   "cell_type": "code",
   "execution_count": 61,
   "id": "33a60d86-3115-4a0c-9ffc-1bde26d25e25",
   "metadata": {
    "tags": []
   },
   "outputs": [
    {
     "data": {
      "text/plain": [
       "0.44650416666666665"
      ]
     },
     "execution_count": 61,
     "metadata": {},
     "output_type": "execute_result"
    }
   ],
   "source": [
    "1061/60/60*1.515"
   ]
  },
  {
   "cell_type": "markdown",
   "id": "757026a9-be26-40f7-8784-be59be5b3b4c",
   "metadata": {},
   "source": [
    "## delete endpoint"
   ]
  },
  {
   "cell_type": "code",
   "execution_count": null,
   "id": "2f911a4b-b488-4873-bfea-0cb18ee48115",
   "metadata": {},
   "outputs": [],
   "source": [
    "# delete sagemaker endpoint\n",
    "predictor.delete_endpoint()"
   ]
  },
  {
   "cell_type": "code",
   "execution_count": null,
   "id": "fc1613e3-6d78-4371-ba26-88f7f08e63ca",
   "metadata": {},
   "outputs": [],
   "source": []
  }
 ],
 "metadata": {
  "kernelspec": {
   "display_name": "conda_pytorch_p310",
   "language": "python",
   "name": "conda_pytorch_p310"
  },
  "language_info": {
   "codemirror_mode": {
    "name": "ipython",
    "version": 3
   },
   "file_extension": ".py",
   "mimetype": "text/x-python",
   "name": "python",
   "nbconvert_exporter": "python",
   "pygments_lexer": "ipython3",
   "version": "3.10.14"
  }
 },
 "nbformat": 4,
 "nbformat_minor": 5
}
